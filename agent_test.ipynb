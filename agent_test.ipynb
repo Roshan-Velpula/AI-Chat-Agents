{
 "cells": [
  {
   "cell_type": "code",
   "execution_count": 2,
   "metadata": {},
   "outputs": [],
   "source": [
    "from IPython.display import Markdown"
   ]
  },
  {
   "cell_type": "code",
   "execution_count": 1,
   "metadata": {},
   "outputs": [
    {
     "name": "stdout",
     "output_type": "stream",
     "text": [
      "Environment loaded: True\n"
     ]
    }
   ],
   "source": [
    "import openai\n",
    "from dotenv import load_dotenv\n",
    "from openai import OpenAI\n",
    "import os\n",
    "from langchain.prompts import PromptTemplate\n",
    "\n",
    "env_loaded = load_dotenv()\n",
    "print(\"Environment loaded:\", env_loaded)\n",
    "\n",
    "\n",
    "\n",
    "client = OpenAI(\n",
    "    api_key=os.getenv(\"OPENAI_API_KEY\"),\n",
    ")\n"
   ]
  },
  {
   "cell_type": "code",
   "execution_count": 3,
   "metadata": {},
   "outputs": [],
   "source": [
    "def get_response(prompt_question):\n",
    "    response = client.chat.completions.create(\n",
    "            model=\"gpt-4o\",\n",
    "            messages=[\n",
    "                {\"role\": \"system\", \"content\": \"You are a helpful AI assistant\"},\n",
    "                {\"role\": \"user\", \"content\": prompt_question}\n",
    "            ],\n",
    "            )\n",
    "    return response.choices[0].message.content\n",
    "\n"
   ]
  },
  {
   "cell_type": "code",
   "execution_count": 4,
   "metadata": {},
   "outputs": [
    {
     "data": {
      "text/markdown": [
       "The three-body problem is a classical problem in physics and astronomy that involves predicting the motion of three celestial bodies interacting with each other through gravitational forces. Unlike the simpler two-body problem, which involves only two celestial bodies and can be solved exactly using Kepler's laws of celestial mechanics, the three-body problem is significantly more complex and typically cannot be solved exactly. Instead, solutions to the three-body problem often require numerical methods and simulations.\n",
       "\n",
       "Key characteristics of the three-body problem include:\n",
       "1. **Complex Dynamics**: The gravitational interactions among the three bodies lead to highly complex and often chaotic trajectories, making analytical solutions difficult.\n",
       "2. **Initial Conditions**: The specific initial positions and velocities of the three bodies play a crucial role in determining their future motion.\n",
       "3. **Nonlinear Equations**: The differential equations governing the motion of the three bodies are nonlinear, which contributes to the complexity of finding solutions.\n",
       "\n",
       "Historically, the study of the three-body problem has led to significant advances in mathematics and physics, including the development of chaos theory and perturbation theory. In practice, solving the three-body problem often involves using computer algorithms to simulate the interactions over time.\n",
       "\n",
       "Some special cases of the three-body problem, where the bodies follow specific constrained paths or exhibit certain symmetries, have analytical solutions. However, for general initial conditions and configurations, numerical methods are typically required to study and understand the problem."
      ],
      "text/plain": [
       "<IPython.core.display.Markdown object>"
      ]
     },
     "execution_count": 4,
     "metadata": {},
     "output_type": "execute_result"
    }
   ],
   "source": [
    "Markdown(get_response(\"What is a 3 body problem?\"))"
   ]
  },
  {
   "cell_type": "code",
   "execution_count": 5,
   "metadata": {},
   "outputs": [],
   "source": [
    "chat= [\n",
    "    {\n",
    "      \"user\": \"Alice\",\n",
    "      \"message\": \"Hey Bob, how's it going?\"\n",
    "    },\n",
    "    {\n",
    "      \"user\": \"Bob\",\n",
    "      \"message\": \"Hi Alice! I'm good, how about you?\"\n",
    "    },\n",
    "    {\n",
    "      \"user\": \"Alice\",\n",
    "      \"message\": \"I'm great, thanks! Do you want to catch up this weekend?\"\n",
    "    },\n",
    "    {\n",
    "      \"user\": \"Bob\",\n",
    "      \"message\": \"Sure, that sounds good. How about Saturday afternoon?\"\n",
    "    },\n",
    "    {\n",
    "      \"user\": \"Alice\",\n",
    "      \"message\": \"Saturday works for me. Let's meet at 3 PM at the usual café.\"\n",
    "    },\n",
    "    {\n",
    "      \"user\": \"Bob\",\n",
    "      \"message\": \"Perfect, I'll see you then!\"\n",
    "    },\n",
    "    {\n",
    "      \"user\": \"Alice\",\n",
    "      \"message\": \"Great, looking forward to it! See you on Saturday at 3 PM.\"\n",
    "    }\n",
    "  ]"
   ]
  },
  {
   "cell_type": "code",
   "execution_count": 9,
   "metadata": {},
   "outputs": [],
   "source": [
    "def get_conv(chat):\n",
    "    \n",
    "    chat_string = ''\n",
    "    for message in chat:            \n",
    "        chat_string += f\"{message['user']}: {message['message']} \\n\"\n",
    "    \n",
    "    return chat_string"
   ]
  },
  {
   "cell_type": "code",
   "execution_count": 10,
   "metadata": {},
   "outputs": [
    {
     "data": {
      "text/plain": [
       "\"Alice: Hey Bob, how's it going? \\nBob: Hi Alice! I'm good, how about you? \\nAlice: I'm great, thanks! Do you want to catch up this weekend? \\nBob: Sure, that sounds good. How about Saturday afternoon? \\nAlice: Saturday works for me. Let's meet at 3 PM at the usual café. \\nBob: Perfect, I'll see you then! \\nAlice: Great, looking forward to it! See you on Saturday at 3 PM. \\n\""
      ]
     },
     "execution_count": 10,
     "metadata": {},
     "output_type": "execute_result"
    }
   ],
   "source": [
    "get_conv(chat)"
   ]
  },
  {
   "cell_type": "code",
   "execution_count": 11,
   "metadata": {},
   "outputs": [],
   "source": [
    "context = \"\"\" \n",
    "\n",
    "You are an AI agent that takes necessary actions if needed based on the conversation provided. You have a set of tools available, pick the available tool wisely.\n",
    "\n",
    "tools: \n",
    "\n",
    "def create_event(date, *kwargs):\n",
    "    #Creates an event in the user's calander via API call.\n",
    "    \n",
    "def set_reminder(date, task):\n",
    "    #Sets an immediate reminder for the tasks\n",
    "    \n",
    "\n",
    "conversation: {chat}\n",
    "YOU ONLY OUTPUT THE FUNCTION TO CALL\n",
    "\"\"\""
   ]
  },
  {
   "cell_type": "code",
   "execution_count": 12,
   "metadata": {},
   "outputs": [],
   "source": [
    "answer_prompt = PromptTemplate(template=context, input_variables=['chat'])\n",
    "formatted_prompt = answer_prompt.format(chat=get_conv(chat) )"
   ]
  },
  {
   "cell_type": "code",
   "execution_count": 13,
   "metadata": {},
   "outputs": [
    {
     "data": {
      "text/plain": [
       "\" \\n\\nYou are an AI agent that takes necessary actions if needed based on the conversation provided. You have a set of tools available, pick the available tool wisely.\\n\\ntools: \\n\\ndef create_event(date, *kwargs):\\n    #Creates an event in the user's calander via API call.\\n    \\ndef set_reminder(date, task):\\n    #Sets an immediate reminder for the tasks\\n    \\n\\nconversation: Alice: Hey Bob, how's it going? \\nBob: Hi Alice! I'm good, how about you? \\nAlice: I'm great, thanks! Do you want to catch up this weekend? \\nBob: Sure, that sounds good. How about Saturday afternoon? \\nAlice: Saturday works for me. Let's meet at 3 PM at the usual café. \\nBob: Perfect, I'll see you then! \\nAlice: Great, looking forward to it! See you on Saturday at 3 PM. \\n\\nYOU ONLY OUTPUT THE FUNCTION TO CALL\\n\""
      ]
     },
     "execution_count": 13,
     "metadata": {},
     "output_type": "execute_result"
    }
   ],
   "source": [
    "formatted_prompt"
   ]
  },
  {
   "cell_type": "code",
   "execution_count": 14,
   "metadata": {},
   "outputs": [
    {
     "data": {
      "text/markdown": [
       "```python\n",
       "create_event('Saturday 3 PM', name='Catch up with Bob', location='usual café')\n",
       "```"
      ],
      "text/plain": [
       "<IPython.core.display.Markdown object>"
      ]
     },
     "execution_count": 14,
     "metadata": {},
     "output_type": "execute_result"
    }
   ],
   "source": [
    "Markdown(get_response(formatted_prompt))"
   ]
  },
  {
   "cell_type": "code",
   "execution_count": 15,
   "metadata": {},
   "outputs": [
    {
     "data": {
      "text/markdown": [
       "I'm unable to check the current time as I don't have access to real-time information. However, you can easily check the time on your device or by searching for the current time in your location online. How else may I assist you today?"
      ],
      "text/plain": [
       "<IPython.core.display.Markdown object>"
      ]
     },
     "execution_count": 15,
     "metadata": {},
     "output_type": "execute_result"
    }
   ],
   "source": [
    "Markdown(get_response(\"What's the time?/\"))"
   ]
  },
  {
   "cell_type": "code",
   "execution_count": 49,
   "metadata": {},
   "outputs": [],
   "source": [
    "from datetime import datetime, timedelta\n",
    "\n",
    "def get_current_time():\n",
    "    \"\"\"\n",
    "    Gets the current time in datetime format along with the current day of the week\n",
    "    \"\"\"\n",
    "    now = datetime.now()\n",
    "    current_time = now.strftime(\"%Y-%m-%d %H:%M:%S\")\n",
    "    current_day = now.strftime(\"%A\")  # %A gives the full weekday name, e.g., Monday\n",
    "    return f\"{current_day}, {current_time}\"\n"
   ]
  },
  {
   "cell_type": "code",
   "execution_count": 50,
   "metadata": {},
   "outputs": [
    {
     "data": {
      "text/plain": [
       "'Saturday, 2024-06-01 20:22:12'"
      ]
     },
     "execution_count": 50,
     "metadata": {},
     "output_type": "execute_result"
    }
   ],
   "source": [
    "get_current_time()"
   ]
  },
  {
   "cell_type": "code",
   "execution_count": 54,
   "metadata": {},
   "outputs": [
    {
     "name": "stdout",
     "output_type": "stream",
     "text": [
      "{'description': 'Discussing the upcoming project.', 'start': {'dateTime': '2024-06-01T15:00:00', 'timeZone': 'UTC'}, 'end': {'dateTime': '2024-06-01T15:30:00', 'timeZone': 'UTC'}, 'reminders': {'useDefault': False, 'overrides': [{'method': 'email', 'minutes': 1440}, {'method': 'popup', 'minutes': 10}]}, 'location': '123 Main St, Anytown, USA', 'summary': 'New event'}\n"
     ]
    },
    {
     "ename": "TypeError",
     "evalue": "'<' not supported between instances of 'str' and 'datetime.datetime'",
     "output_type": "error",
     "traceback": [
      "\u001b[1;31m---------------------------------------------------------------------------\u001b[0m",
      "\u001b[1;31mTypeError\u001b[0m                                 Traceback (most recent call last)",
      "Cell \u001b[1;32mIn[54], line 50\u001b[0m\n\u001b[0;32m     48\u001b[0m         \u001b[38;5;28;01mreturn\u001b[39;00m \u001b[38;5;124m\"\u001b[39m\u001b[38;5;124mEvent Scheduled\u001b[39m\u001b[38;5;124m\"\u001b[39m\n\u001b[0;32m     49\u001b[0m \u001b[38;5;66;03m# Example usage\u001b[39;00m\n\u001b[1;32m---> 50\u001b[0m \u001b[43mcreate_event\u001b[49m\u001b[43m(\u001b[49m\n\u001b[0;32m     51\u001b[0m \u001b[43m    \u001b[49m\u001b[43mstart_time\u001b[49m\u001b[38;5;241;43m=\u001b[39;49m\u001b[38;5;124;43m'\u001b[39;49m\u001b[38;5;124;43m2024-06-01T15:00:00\u001b[39;49m\u001b[38;5;124;43m'\u001b[39;49m\u001b[43m,\u001b[49m\n\u001b[0;32m     52\u001b[0m \u001b[43m    \u001b[49m\u001b[43mdescription\u001b[49m\u001b[38;5;241;43m=\u001b[39;49m\u001b[38;5;124;43m'\u001b[39;49m\u001b[38;5;124;43mDiscussing the upcoming project.\u001b[39;49m\u001b[38;5;124;43m'\u001b[39;49m\u001b[43m,\u001b[49m\n\u001b[0;32m     53\u001b[0m \u001b[43m    \u001b[49m\u001b[43mend_time\u001b[49m\u001b[38;5;241;43m=\u001b[39;49m\u001b[38;5;241;43m30\u001b[39;49m\u001b[43m,\u001b[49m\n\u001b[0;32m     54\u001b[0m \u001b[43m    \u001b[49m\u001b[43mlocation\u001b[49m\u001b[38;5;241;43m=\u001b[39;49m\u001b[38;5;124;43m'\u001b[39;49m\u001b[38;5;124;43m123 Main St, Anytown, USA\u001b[39;49m\u001b[38;5;124;43m'\u001b[39;49m\n\u001b[0;32m     55\u001b[0m \u001b[43m)\u001b[49m\n",
      "Cell \u001b[1;32mIn[54], line 45\u001b[0m, in \u001b[0;36mcreate_event\u001b[1;34m(start_time, description, end_time, location, summary)\u001b[0m\n\u001b[0;32m     42\u001b[0m     event[\u001b[38;5;124m'\u001b[39m\u001b[38;5;124msummary\u001b[39m\u001b[38;5;124m'\u001b[39m] \u001b[38;5;241m=\u001b[39m \u001b[38;5;124m'\u001b[39m\u001b[38;5;124mNew event\u001b[39m\u001b[38;5;124m'\u001b[39m\n\u001b[0;32m     43\u001b[0m \u001b[38;5;28mprint\u001b[39m(event)\n\u001b[1;32m---> 45\u001b[0m \u001b[38;5;28;01mif\u001b[39;00m \u001b[43mstart_time\u001b[49m\u001b[43m \u001b[49m\u001b[38;5;241;43m<\u001b[39;49m\u001b[43m \u001b[49m\u001b[43mdatetime\u001b[49m\u001b[38;5;241;43m.\u001b[39;49m\u001b[43mnow\u001b[49m\u001b[43m(\u001b[49m\u001b[43m)\u001b[49m:\n\u001b[0;32m     46\u001b[0m     \u001b[38;5;28;01mreturn\u001b[39;00m \u001b[38;5;124m\"\u001b[39m\u001b[38;5;124mStart time can not be in past\u001b[39m\u001b[38;5;124m\"\u001b[39m\n\u001b[0;32m     47\u001b[0m \u001b[38;5;28;01melse\u001b[39;00m:\n",
      "\u001b[1;31mTypeError\u001b[0m: '<' not supported between instances of 'str' and 'datetime.datetime'"
     ]
    }
   ],
   "source": [
    "def create_event(start_time, description, end_time=30, location=None, summary= None):\n",
    "\n",
    "    \"\"\" Creates a google calander event given the start_time and description as args.\n",
    "        Also takes in kwargs like end_time, location, summary\n",
    "        end_time is by default set to 30mins after start time. \n",
    "        location and summary defaults to None\n",
    "    \"\"\"\n",
    "\n",
    "    # Parse the start time to a datetime object\n",
    "    start_datetime = datetime.strptime(start_time, \"%Y-%m-%dT%H:%M:%S\")\n",
    "    \n",
    "    # Calculate the end time by adding the duration to the start time\n",
    "    end_datetime = start_datetime + timedelta(minutes=end_time)\n",
    "\n",
    "    # Create the event body\n",
    "    event = {\n",
    "        'description': description,\n",
    "        'start': {\n",
    "            'dateTime': start_datetime.isoformat(),\n",
    "            'timeZone': 'UTC',  # Adjust time zone as needed\n",
    "        },\n",
    "        'end': {\n",
    "            'dateTime': end_datetime.isoformat(),\n",
    "            'timeZone': 'UTC',  # Adjust time zone as needed\n",
    "        },\n",
    "        'reminders': {\n",
    "            'useDefault': False,\n",
    "            'overrides': [\n",
    "                {'method': 'email', 'minutes': 24 * 60},\n",
    "                {'method': 'popup', 'minutes': 10},\n",
    "            ],\n",
    "        },\n",
    "    }\n",
    "\n",
    "    # Add location if provided\n",
    "    if location:\n",
    "        event['location'] = location\n",
    "    \n",
    "    if summary:\n",
    "        event['summary'] = summary\n",
    "    else:\n",
    "        event['summary'] = 'New event'\n",
    "    print(event)\n",
    "\n",
    "    if start_datetime < datetime.now():\n",
    "        return \"Start time can not be in past\"\n",
    "    else:\n",
    "        return \"Event Scheduled\"\n",
    "# Example usage\n",
    "create_event(\n",
    "    start_time='2024-06-01T15:00:00',\n",
    "    description='Discussing the upcoming project.',\n",
    "    end_time=30,\n",
    "    location='123 Main St, Anytown, USA'\n",
    ")"
   ]
  },
  {
   "cell_type": "code",
   "execution_count": null,
   "metadata": {},
   "outputs": [],
   "source": []
  },
  {
   "cell_type": "code",
   "execution_count": 51,
   "metadata": {},
   "outputs": [],
   "source": [
    "\n",
    "\n",
    "def run_conversation(query):\n",
    "    \n",
    "    \n",
    "    \n",
    "    messages=[\n",
    "                {\"role\": \"system\", \"content\": \"You are an AI agent\"},\n",
    "                {\"role\": \"user\", \"content\": query}\n",
    "            ]\n",
    "    \n",
    "    tools = [\n",
    "        \n",
    "        {\n",
    "            \"type\": \"function\",\n",
    "            \"function\": {\n",
    "                \"name\": \"get_current_time\",\n",
    "                \"description\": \"Gets the current day and time in datetime format which might be required for event scheduling\",\n",
    "                \n",
    "                \n",
    "            }\n",
    "        },\n",
    "        \n",
    "        {\n",
    "            \"type\": \"function\",\n",
    "            \"function\": {\n",
    "                \n",
    "                \"name\": \"create_event\",\n",
    "                \"description\": \"Creates a google calander event given the start_time and description as args. Also takes in kwargs like end_time, location, summary. end_time is by default set to 30. location and summary defaults to None\",\n",
    "                \"parameters\": {\n",
    "                    \n",
    "                    \"type\": \"object\",\n",
    "                    \"properties\": {\n",
    "                        \n",
    "                        \"start_time\": {\n",
    "                            \n",
    "                            \"type\": \"string\",\n",
    "                            \"description\": \"Start time of the event, in a datetime format string, you need current time to adjust this event \",\n",
    "                        },\n",
    "                        \n",
    "                        \"description\": {\n",
    "                            \n",
    "                            \"type\": \"string\",\n",
    "                            \"description\": \"Description of the event\",\n",
    "                        },\n",
    "                        \n",
    "                        \"end_time\": {\n",
    "                            \n",
    "                            \"type\": \"integer\",\n",
    "                            \"description\": \"duration of the event, by default set to 30\",\n",
    "                        },\n",
    "                        \n",
    "                        \"location\": {\n",
    "                            \n",
    "                            \"type\": \"string\",\n",
    "                            \"description\": \"location of the event, by default set to None\",\n",
    "                        },\n",
    "                        \n",
    "                        \"summary\": {\n",
    "                            \n",
    "                            \"type\": \"string\",\n",
    "                            \"description\": \"summary of the event, by default set to None\"\n",
    "                        }\n",
    "                        \n",
    "                    }\n",
    "                }\n",
    "            }\n",
    "            \n",
    "        }    \n",
    "    ]\n",
    "    \n",
    "    response = client.chat.completions.create(\n",
    "        model=\"gpt-4o\",\n",
    "        messages=messages,\n",
    "        tools=tools,\n",
    "        tool_choice=\"auto\",  # auto is default, but we'll be explicit\n",
    "    )\n",
    "    \n",
    "    return response"
   ]
  },
  {
   "cell_type": "code",
   "execution_count": 52,
   "metadata": {},
   "outputs": [],
   "source": [
    "response = run_conversation(formatted_prompt)"
   ]
  },
  {
   "cell_type": "code",
   "execution_count": 53,
   "metadata": {},
   "outputs": [
    {
     "data": {
      "text/plain": [
       "[ChatCompletionMessageToolCall(id='call_922XtT9w289aF91gUXAT3F5s', function=Function(arguments='{\"start_time\":\"2023-10-07T15:00:00\",\"description\":\"Catch up with Alice at the usual café.\",\"summary\":\"Meet with Alice\"}', name='create_event'), type='function')]"
      ]
     },
     "execution_count": 53,
     "metadata": {},
     "output_type": "execute_result"
    }
   ],
   "source": [
    "response.choices[0].message.tool_calls"
   ]
  },
  {
   "cell_type": "code",
   "execution_count": 47,
   "metadata": {},
   "outputs": [
    {
     "ename": "NameError",
     "evalue": "name 'response_message' is not defined",
     "output_type": "error",
     "traceback": [
      "\u001b[1;31m---------------------------------------------------------------------------\u001b[0m",
      "\u001b[1;31mNameError\u001b[0m                                 Traceback (most recent call last)",
      "Cell \u001b[1;32mIn[47], line 1\u001b[0m\n\u001b[1;32m----> 1\u001b[0m \u001b[43mresponse_message\u001b[49m\u001b[38;5;241m.\u001b[39mtool_calls\n",
      "\u001b[1;31mNameError\u001b[0m: name 'response_message' is not defined"
     ]
    }
   ],
   "source": [
    "response_message"
   ]
  },
  {
   "cell_type": "code",
   "execution_count": null,
   "metadata": {},
   "outputs": [],
   "source": []
  }
 ],
 "metadata": {
  "kernelspec": {
   "display_name": "base",
   "language": "python",
   "name": "python3"
  },
  "language_info": {
   "codemirror_mode": {
    "name": "ipython",
    "version": 3
   },
   "file_extension": ".py",
   "mimetype": "text/x-python",
   "name": "python",
   "nbconvert_exporter": "python",
   "pygments_lexer": "ipython3",
   "version": "3.9.12"
  }
 },
 "nbformat": 4,
 "nbformat_minor": 2
}
